{
 "cells": [
  {
   "cell_type": "markdown",
   "metadata": {},
   "source": [
    "Welcome! this code runs through the simulation of a hybrid rocket engine"
   ]
  },
  {
   "cell_type": "code",
   "execution_count": 9,
   "metadata": {},
   "outputs": [
    {
     "ename": "SyntaxError",
     "evalue": "invalid syntax (Temp/ipykernel_10892/4208260887.py, line 4)",
     "output_type": "error",
     "traceback": [
      "\u001b[1;36m  File \u001b[1;32m\"C:\\Users\\nikhi\\AppData\\Local\\Temp/ipykernel_10892/4208260887.py\"\u001b[1;36m, line \u001b[1;32m4\u001b[0m\n\u001b[1;33m    V = #volume of tank\u001b[0m\n\u001b[1;37m        ^\u001b[0m\n\u001b[1;31mSyntaxError\u001b[0m\u001b[1;31m:\u001b[0m invalid syntax\n"
     ]
    }
   ],
   "source": [
    "# Data inputs\n",
    "#  oxidizer tank\n",
    "\n",
    "V = #volume of tank\n",
    "m_t = #mass of tank\n",
    "m_l = #mass of tank + oxidizer mass\n",
    "\n",
    "#Injectore\n",
    "C_d = \n",
    "A_inj = \n",
    "alpha_nozz = \n",
    "\n",
    "#Fuel Grain config stuff\n",
    "\n",
    "#Nozzle dimensions\n",
    "A_star = #throat area\n",
    "A_exit = #exit area\n",
    "\n",
    "#environmental conditions\n",
    "\n",
    "P_e = \n",
    "T_e = \n",
    "\n",
    "#Oxidizer and Fuel Material data"
   ]
  },
  {
   "cell_type": "code",
   "execution_count": 10,
   "metadata": {},
   "outputs": [
    {
     "ename": "SyntaxError",
     "evalue": "invalid syntax (Temp/ipykernel_10892/1162539689.py, line 5)",
     "output_type": "error",
     "traceback": [
      "\u001b[1;36m  File \u001b[1;32m\"C:\\Users\\nikhi\\AppData\\Local\\Temp/ipykernel_10892/1162539689.py\"\u001b[1;36m, line \u001b[1;32m5\u001b[0m\n\u001b[1;33m    P_t =  #tank pressure\u001b[0m\n\u001b[1;37m           ^\u001b[0m\n\u001b[1;31mSyntaxError\u001b[0m\u001b[1;31m:\u001b[0m invalid syntax\n"
     ]
    }
   ],
   "source": [
    "#Initialization:\n",
    "\n",
    "#Initial tank conditions\n",
    "\n",
    "P_t =  #tank pressure\n",
    "T_t =  #tank temperature\n",
    "m_l =  #mass of liquid nitrous\n",
    "m_g =  #mass of gaseous nitrous\n",
    "\n",
    "#\"Allocate matrices and divide fuel grain into 1D mess\"   ---- I honestly don't know what this means tbh"
   ]
  },
  {
   "cell_type": "code",
   "execution_count": 1,
   "metadata": {},
   "outputs": [
    {
     "ename": "SyntaxError",
     "evalue": "invalid syntax (Temp/ipykernel_19168/3670317011.py, line 3)",
     "output_type": "error",
     "traceback": [
      "\u001b[1;36m  File \u001b[1;32m\"C:\\Users\\nikhi\\AppData\\Local\\Temp/ipykernel_19168/3670317011.py\"\u001b[1;36m, line \u001b[1;32m3\u001b[0m\n\u001b[1;33m    m_dot_inj =\u001b[0m\n\u001b[1;37m                ^\u001b[0m\n\u001b[1;31mSyntaxError\u001b[0m\u001b[1;31m:\u001b[0m invalid syntax\n"
     ]
    }
   ],
   "source": [
    "\n",
    "\n",
    "#While fuel and oxidizer not depleted: \n",
    "\n",
    "    #1-- Injector Model\n",
    "    #2-- Tank Flush Model\n",
    "    #3-- Fuel Grain Regression model\n",
    "    #4-- NASA CEA Calculations\n",
    "    #5-- Chamber Pressure calculations\n",
    "    #6-- are P_ch amd m_ftot errors under 0.01% ?? if not go to 3\n",
    "\n",
    "#display results\n",
    "\n",
    "\n",
    "\n"
   ]
  },
  {
   "cell_type": "code",
   "execution_count": 1,
   "metadata": {},
   "outputs": [
    {
     "name": "stdout",
     "output_type": "stream",
     "text": [
      "big sweaty balls\n"
     ]
    }
   ],
   "source": [
    "print (\"big sweaty balls\")"
   ]
  }
 ],
 "metadata": {
  "interpreter": {
   "hash": "1329810a962040edcad4456275bf5005f562e8a23d8dd2c9483aa5a5cb607451"
  },
  "kernelspec": {
   "display_name": "Python 3.8.5 64-bit ('base': conda)",
   "language": "python",
   "name": "python3"
  },
  "language_info": {
   "codemirror_mode": {
    "name": "ipython",
    "version": 3
   },
   "file_extension": ".py",
   "mimetype": "text/x-python",
   "name": "python",
   "nbconvert_exporter": "python",
   "pygments_lexer": "ipython3",
   "version": "3.8.12"
  },
  "orig_nbformat": 4
 },
 "nbformat": 4,
 "nbformat_minor": 2
}
